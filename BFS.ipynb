{
  "nbformat": 4,
  "nbformat_minor": 0,
  "metadata": {
    "colab": {
      "provenance": [],
      "authorship_tag": "ABX9TyNXMWCLtfEfCSNn0esoNSH+",
      "include_colab_link": true
    },
    "kernelspec": {
      "name": "python3",
      "display_name": "Python 3"
    },
    "language_info": {
      "name": "python"
    }
  },
  "cells": [
    {
      "cell_type": "markdown",
      "metadata": {
        "id": "view-in-github",
        "colab_type": "text"
      },
      "source": [
        "<a href=\"https://colab.research.google.com/github/SahilKadaskar/AAI/blob/main/BFS.ipynb\" target=\"_parent\"><img src=\"https://colab.research.google.com/assets/colab-badge.svg\" alt=\"Open In Colab\"/></a>"
      ]
    },
    {
      "cell_type": "code",
      "source": [
        "from collections import deque\n",
        "\n",
        "class State:\n",
        "    def __init__(self, name):\n",
        "        self.name = name\n",
        "\n",
        "    def __eq__(self, other):\n",
        "        return self.name == other.name\n",
        "\n",
        "    def __hash__(self):\n",
        "        return hash(self.name)\n",
        "\n",
        "    def __repr__(self):\n",
        "        return self.name\n",
        "\n",
        "\n",
        "def bfs(start, goal, graph):\n",
        "    # Initialize the queue for BFS\n",
        "    queue = deque([start])\n",
        "    visited = set()  # Set to track visited nodes\n",
        "    parent_map = {}  # To reconstruct the path\n",
        "\n",
        "    visited.add(start)\n",
        "\n",
        "    while queue:\n",
        "        current = queue.popleft()  # Dequeue\n",
        "\n",
        "        print(f\"Current state: {current}\")\n",
        "        print(f\"Queue: {list(queue)}\")\n",
        "        print(f\"Visited: {visited}\")\n",
        "\n",
        "        if current == goal:  # Goal reached\n",
        "            # Reconstruct the path from goal to start using parent_map\n",
        "            path = []\n",
        "            while current:\n",
        "                path.append(current)\n",
        "                current = parent_map.get(current, None)\n",
        "            return path[::-1]  # Return reversed path (from start to goal)\n",
        "\n",
        "        # Explore neighbors\n",
        "        for neighbor in graph.get(current, []):\n",
        "            if neighbor not in visited:\n",
        "                visited.add(neighbor)\n",
        "                parent_map[neighbor] = current\n",
        "                queue.append(neighbor)\n",
        "\n",
        "    return None  # Return None if no path found\n",
        "\n",
        "\n",
        "# Define some states\n",
        "A = State(\"A\")\n",
        "B = State(\"B\")\n",
        "C = State(\"C\")\n",
        "D = State(\"D\")\n",
        "Goal = State(\"Goal\")\n",
        "\n",
        "# Define the graph\n",
        "graph = {\n",
        "    A: [B, C],  # A connects to B and C\n",
        "    B: [D],     # B connects to D\n",
        "    C: [D],     # C connects to D\n",
        "    D: [Goal],  # D connects to Goal\n",
        "}\n",
        "\n",
        "# Run BFS\n",
        "path = bfs(A, Goal, graph)\n",
        "\n",
        "# Print the path found\n",
        "if path:\n",
        "    print(\"Path found:\", \" -> \".join(str(state) for state in path))\n",
        "else:\n",
        "    print(\"No path found using BFS.\")\n"
      ],
      "metadata": {
        "colab": {
          "base_uri": "https://localhost:8080/"
        },
        "id": "UlR2UkCMRw1q",
        "outputId": "7e73f3ce-ae19-4cdb-e219-fc54415f1787"
      },
      "execution_count": 4,
      "outputs": [
        {
          "output_type": "stream",
          "name": "stdout",
          "text": [
            "Current state: A\n",
            "Queue: []\n",
            "Visited: {A}\n",
            "Current state: B\n",
            "Queue: [C]\n",
            "Visited: {B, A, C}\n",
            "Current state: C\n",
            "Queue: [D]\n",
            "Visited: {B, D, A, C}\n",
            "Current state: D\n",
            "Queue: []\n",
            "Visited: {B, D, A, C}\n",
            "Current state: Goal\n",
            "Queue: []\n",
            "Visited: {D, A, C, Goal, B}\n",
            "Path found: A -> B -> D -> Goal\n"
          ]
        }
      ]
    }
  ]
}