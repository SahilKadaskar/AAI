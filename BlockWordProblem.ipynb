{
  "nbformat": 4,
  "nbformat_minor": 0,
  "metadata": {
    "colab": {
      "provenance": [],
      "authorship_tag": "ABX9TyME/KZbApGzX5sB/vcxpKHI",
      "include_colab_link": true
    },
    "kernelspec": {
      "name": "python3",
      "display_name": "Python 3"
    },
    "language_info": {
      "name": "python"
    }
  },
  "cells": [
    {
      "cell_type": "markdown",
      "metadata": {
        "id": "view-in-github",
        "colab_type": "text"
      },
      "source": [
        "<a href=\"https://colab.research.google.com/github/SahilKadaskar/AAI/blob/main/BlockWordProblem.ipynb\" target=\"_parent\"><img src=\"https://colab.research.google.com/assets/colab-badge.svg\" alt=\"Open In Colab\"/></a>"
      ]
    },
    {
      "cell_type": "code",
      "execution_count": 2,
      "metadata": {
        "colab": {
          "base_uri": "https://localhost:8080/",
          "height": 1000
        },
        "id": "zfiqN5qPbWk7",
        "outputId": "f381e9fd-9ab0-495c-ea1f-85b3ae75efb0"
      },
      "outputs": [
        {
          "output_type": "stream",
          "name": "stdout",
          "text": [
            "Initial state:\n",
            "A is on table\n",
            "B is on A\n",
            "C is on table\n",
            "D is on B\n"
          ]
        },
        {
          "output_type": "display_data",
          "data": {
            "text/plain": [
              "<Figure size 500x500 with 1 Axes>"
            ],
            "image/png": "[encoded data removed]"
          },
          "metadata": {}
        },
        {
          "output_type": "stream",
          "name": "stdout",
          "text": [
            "\n",
            "Goal state:\n",
            "A is on table\n",
            "B is on A\n",
            "C is on table\n",
            "D is on B\n"
          ]
        },
        {
          "output_type": "display_data",
          "data": {
            "text/plain": [
              "<Figure size 640x480 with 0 Axes>"
            ]
          },
          "metadata": {}
        },
        {
          "output_type": "stream",
          "name": "stdout",
          "text": [
            "\n",
            "Executing plan:\n",
            "Moved B from A to table\n",
            "A is on table\n",
            "B is on table\n",
            "C is on table\n",
            "D is on B\n"
          ]
        },
        {
          "output_type": "display_data",
          "data": {
            "text/plain": [
              "<Figure size 640x480 with 0 Axes>"
            ]
          },
          "metadata": {}
        },
        {
          "output_type": "stream",
          "name": "stdout",
          "text": [
            "Moved C from table to A\n",
            "A is on table\n",
            "B is on table\n",
            "C is on A\n",
            "D is on B\n"
          ]
        },
        {
          "output_type": "display_data",
          "data": {
            "text/plain": [
              "<Figure size 640x480 with 0 Axes>"
            ]
          },
          "metadata": {}
        },
        {
          "output_type": "stream",
          "name": "stdout",
          "text": [
            "Moved D from B to C\n",
            "A is on table\n",
            "B is on table\n",
            "C is on A\n",
            "D is on C\n"
          ]
        },
        {
          "output_type": "display_data",
          "data": {
            "text/plain": [
              "<Figure size 640x480 with 0 Axes>"
            ]
          },
          "metadata": {}
        },
        {
          "output_type": "stream",
          "name": "stdout",
          "text": [
            "Goal state reached!\n"
          ]
        },
        {
          "output_type": "display_data",
          "data": {
            "text/plain": [
              "<Figure size 640x480 with 0 Axes>"
            ]
          },
          "metadata": {}
        }
      ],
      "source": [
        "import matplotlib.pyplot as plt\n",
        "import matplotlib.patches as patches\n",
        "\n",
        "# Ensure inline plotting in Jupyter/Colab\n",
        "%matplotlib inline\n",
        "\n",
        "class BlockWorld:\n",
        "    def __init__(self, blocks, initial_state, goal_state):\n",
        "        self.blocks = blocks  # List of blocks\n",
        "        self.initial_state = initial_state  # Initial configuration\n",
        "        self.goal_state = goal_state  # Goal configuration\n",
        "        self.state = initial_state  # Current configuration\n",
        "        self.fig, self.ax = plt.subplots(figsize=(5, 5))  # Create a figure and axes for plotting\n",
        "        self.block_size = 1  # Size of each block in the visualization\n",
        "        self.table_height = 0.5  # Height of the table\n",
        "        self.block_height = 1.0  # Height of each block\n",
        "\n",
        "    def plot_table(self):\n",
        "        \"\"\"Plot the table where the blocks rest.\"\"\"\n",
        "        table = patches.Rectangle((0, 0), len(self.blocks) * 2, self.table_height, linewidth=1, edgecolor='black', facecolor='lightgrey')\n",
        "        self.ax.add_patch(table)\n",
        "\n",
        "    def plot_block(self, block, x, y):\n",
        "        \"\"\"Plot a block at the given position.\"\"\"\n",
        "        rect = patches.Rectangle((x, y), self.block_size, self.block_height, linewidth=2, edgecolor='black', facecolor='orange')\n",
        "        self.ax.add_patch(rect)\n",
        "        self.ax.text(x + self.block_size / 2, y + self.block_height / 2, block, color='black', ha='center', va='center', fontsize=12)\n",
        "\n",
        "    def clear_plot(self):\n",
        "        \"\"\"Clear the plot before redrawing.\"\"\"\n",
        "        self.ax.clear()\n",
        "        self.ax.set_xlim(0, len(self.blocks) * 2)\n",
        "        self.ax.set_ylim(0, len(self.blocks) * 2)\n",
        "        self.ax.set_aspect('equal')\n",
        "        self.ax.set_xticks([])  # Hide x-axis ticks\n",
        "        self.ax.set_yticks([])  # Hide y-axis ticks\n",
        "\n",
        "    def print_state(self):\n",
        "        \"\"\"Prints the current state of the blocks.\"\"\"\n",
        "        for block in self.blocks:\n",
        "            position = self.state.get(block, 'table')  # If block is on table, it's 'table'\n",
        "            print(f\"{block} is on {position}\")\n",
        "\n",
        "    def move(self, block, from_position, to_position):\n",
        "        \"\"\"Move a block from one position to another.\"\"\"\n",
        "        if self.state.get(block) == from_position:\n",
        "            self.state[block] = to_position\n",
        "            print(f\"Moved {block} from {from_position} to {to_position}\")\n",
        "        else:\n",
        "            print(f\"Cannot move {block}, it's not at {from_position}!\")\n",
        "\n",
        "    def is_goal_reached(self):\n",
        "        \"\"\"Check if the current state matches the goal state.\"\"\"\n",
        "        return self.state == self.goal_state\n",
        "\n",
        "    def plot_state(self, state, title=\"State\"):\n",
        "        \"\"\"Plot the state of the blocks.\"\"\"\n",
        "        self.clear_plot()\n",
        "        self.plot_table()\n",
        "\n",
        "        block_positions = {}  # Keep track of the block positions to handle stacking\n",
        "\n",
        "        # Position each block based on its state\n",
        "        for i, block in enumerate(self.blocks):\n",
        "            y_offset = 0  # Start at the table level\n",
        "            if state.get(block) == 'table':\n",
        "                x_offset = i * 2  # Space out the blocks on the table\n",
        "            else:\n",
        "                # If the block is on another block, calculate the stacking position\n",
        "                below_block = state.get(block)\n",
        "                x_offset, y_offset = block_positions[below_block]\n",
        "                y_offset += self.block_height  # Stack the block on top\n",
        "\n",
        "            # Store the position of the block\n",
        "            block_positions[block] = (x_offset, y_offset)\n",
        "\n",
        "            # Plot the block at its calculated position\n",
        "            self.plot_block(block, x_offset, y_offset)\n",
        "\n",
        "        self.ax.set_title(title)\n",
        "        plt.pause(1)  # Pause to update the plot\n",
        "        plt.draw()  # Redraw the plot\n",
        "\n",
        "    def plan(self):\n",
        "        \"\"\"Generate a sequence of actions to reach the goal state.\"\"\"\n",
        "        actions = []\n",
        "        for block in self.blocks:\n",
        "            current_position = self.state.get(block, 'table')\n",
        "            goal_position = self.goal_state.get(block, 'table')\n",
        "\n",
        "            if current_position != goal_position:\n",
        "                actions.append((block, current_position, goal_position))\n",
        "\n",
        "        return actions\n",
        "\n",
        "    def execute_plan(self):\n",
        "        \"\"\"Execute the plan (sequence of actions).\"\"\"\n",
        "        actions = self.plan()\n",
        "        if not actions:\n",
        "            print(\"Already at the goal state!\")\n",
        "            return\n",
        "\n",
        "        for block, current_position, goal_position in actions:\n",
        "            self.move(block, current_position, goal_position)\n",
        "            self.print_state()\n",
        "            self.plot_state(self.state, \"Current State\")\n",
        "            if self.is_goal_reached():\n",
        "                print(\"Goal state reached!\")\n",
        "                return\n",
        "\n",
        "\n",
        "# Define the blocks\n",
        "blocks = ['A', 'B', 'C','D']\n",
        "\n",
        "# Define the initial state (represented as a dictionary)\n",
        "initial_state = {'A': 'table', 'B': 'A','D':'B', 'C': 'table'}\n",
        "\n",
        "# Define the goal state\n",
        "goal_state = {'A': 'table', 'B': 'table', 'C': 'A','D':'C'}\n",
        "\n",
        "# Create an instance of the BlockWorld class\n",
        "block_world = BlockWorld(blocks, initial_state, goal_state)\n",
        "\n",
        "# Print the initial state and plot the configuration\n",
        "print(\"Initial state:\")\n",
        "block_world.print_state()\n",
        "block_world.plot_state(initial_state, \"Initial State\")\n",
        "\n",
        "# Print the goal state and plot the goal configuration\n",
        "print(\"\\nGoal state:\")\n",
        "block_world.print_state()\n",
        "block_world.plot_state(goal_state, \"Goal State\")\n",
        "\n",
        "# Execute the plan to reach the goal state\n",
        "print(\"\\nExecuting plan:\")\n",
        "block_world.execute_plan()\n",
        "\n",
        "# Display the plot after completing the task\n",
        "plt.show()\n"
      ]
    }
  ]
}