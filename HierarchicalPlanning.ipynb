{
  "nbformat": 4,
  "nbformat_minor": 0,
  "metadata": {
    "colab": {
      "provenance": [],
      "authorship_tag": "ABX9TyPPDDnvWtFLAyD4R7sQdle+",
      "include_colab_link": true
    },
    "kernelspec": {
      "name": "python3",
      "display_name": "Python 3"
    },
    "language_info": {
      "name": "python"
    }
  },
  "cells": [
    {
      "cell_type": "markdown",
      "metadata": {
        "id": "view-in-github",
        "colab_type": "text"
      },
      "source": [
        "<a href=\"https://colab.research.google.com/github/SahilKadaskar/AAI/blob/main/HierarchicalPlanning.ipynb\" target=\"_parent\"><img src=\"https://colab.research.google.com/assets/colab-badge.svg\" alt=\"Open In Colab\"/></a>"
      ]
    },
    {
      "cell_type": "code",
      "execution_count": 1,
      "metadata": {
        "colab": {
          "base_uri": "https://localhost:8080/"
        },
        "id": "NOverjVDca0V",
        "outputId": "fe76e669-5d93-43cb-a15e-60824576ac42"
      },
      "outputs": [
        {
          "output_type": "stream",
          "name": "stdout",
          "text": [
            "\n",
            "Executing Plan for Goal: Clean the House\n",
            "Executing subgoal: Clean the Living Room\n",
            "Executing action: Vacuum the floor\n",
            "Executing action: Mop the floor\n",
            "Executing subgoal: Clean the Kitchen\n",
            "Cannot execute action: Wash dishes. Preconditions not met.\n"
          ]
        }
      ],
      "source": [
        "class Action:\n",
        "    def __init__(self, description, preconditions=None):\n",
        "        self.description = description\n",
        "        self.preconditions = preconditions or []\n",
        "\n",
        "    def execute(self):\n",
        "        if self.check_preconditions():\n",
        "            print(f\"Executing action: {self.description}\")\n",
        "        else:\n",
        "            print(f\"Cannot execute action: {self.description}. Preconditions not met.\")\n",
        "\n",
        "    def check_preconditions(self):\n",
        "        return all(cond() for cond in self.preconditions)\n",
        "\n",
        "\n",
        "class Subgoal:\n",
        "    def __init__(self, description):\n",
        "        self.description = description\n",
        "        self.actions = []\n",
        "\n",
        "    def add_action(self, action):\n",
        "        self.actions.append(action)\n",
        "\n",
        "    def execute(self):\n",
        "        print(f\"Executing subgoal: {self.description}\")\n",
        "        for action in self.actions:\n",
        "            action.execute()\n",
        "\n",
        "\n",
        "class Plan:\n",
        "    def __init__(self, goal):\n",
        "        self.goal = goal\n",
        "        self.subgoals = []\n",
        "\n",
        "    def add_subgoal(self, subgoal):\n",
        "        self.subgoals.append(subgoal)\n",
        "\n",
        "    def execute(self):\n",
        "        print(f\"\\nExecuting Plan for Goal: {self.goal}\")\n",
        "        for subgoal in self.subgoals:\n",
        "            subgoal.execute()\n",
        "\n",
        "\n",
        "# Preconditions for actions\n",
        "def is_vacuum_charged():\n",
        "    return True  # Assume the vacuum is charged\n",
        "\n",
        "def is_floor_dirty():\n",
        "    return True  # Assume the floor is dirty\n",
        "\n",
        "def are_dishes_dirty():\n",
        "    return False  # Assume the dishes are clean\n",
        "\n",
        "def is_mop_ready():\n",
        "    return True  # Assume the mop is ready to use\n",
        "\n",
        "# Actions for cleaning tasks\n",
        "action1 = Action(\"Vacuum the floor\", preconditions=[is_vacuum_charged, is_floor_dirty])\n",
        "action2 = Action(\"Wash dishes\", preconditions=[are_dishes_dirty])\n",
        "action3 = Action(\"Mop the floor\", preconditions=[is_mop_ready, is_floor_dirty])\n",
        "\n",
        "# Subgoals for cleaning tasks\n",
        "subgoal1 = Subgoal(\"Clean the Living Room\")\n",
        "subgoal1.add_action(action1)\n",
        "subgoal1.add_action(action3)\n",
        "\n",
        "subgoal2 = Subgoal(\"Clean the Kitchen\")\n",
        "subgoal2.add_action(action2)\n",
        "\n",
        "# Creating a cleaning plan\n",
        "cleaning_plan = Plan(\"Clean the House\")\n",
        "\n",
        "# Add subgoals to the cleaning plan\n",
        "cleaning_plan.add_subgoal(subgoal1)\n",
        "cleaning_plan.add_subgoal(subgoal2)\n",
        "\n",
        "# Execute the cleaning plan\n",
        "cleaning_plan.execute()\n"
      ]
    }
  ]
}