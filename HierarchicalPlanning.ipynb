{
  "nbformat": 4,
  "nbformat_minor": 0,
  "metadata": {
    "colab": {
      "provenance": [],
      "authorship_tag": "ABX9TyOfftW/4nEi7WtPflBm1VXb",
      "include_colab_link": true
    },
    "kernelspec": {
      "name": "python3",
      "display_name": "Python 3"
    },
    "language_info": {
      "name": "python"
    }
  },
  "cells": [
    {
      "cell_type": "markdown",
      "metadata": {
        "id": "view-in-github",
        "colab_type": "text"
      },
      "source": [
        "<a href=\"https://colab.research.google.com/github/SahilKadaskar/AAI/blob/main/HierarchicalPlanning.ipynb\" target=\"_parent\"><img src=\"https://colab.research.google.com/assets/colab-badge.svg\" alt=\"Open In Colab\"/></a>"
      ]
    },
    {
      "cell_type": "code",
      "execution_count": 1,
      "metadata": {
        "id": "NOverjVDca0V",
        "outputId": "d8f83d52-3cf9-4c6f-dbf8-2338590a2443",
        "colab": {
          "base_uri": "https://localhost:8080/"
        }
      },
      "outputs": [
        {
          "output_type": "stream",
          "name": "stdout",
          "text": [
            "Starting planning...\n",
            "Decomposing task: Prepare Dinner\n",
            "Decomposing task: Prepare Salad\n",
            "Executing leaf task: Wash vegetables\n",
            "Executing: Turn on water and rinse vegetables.\n",
            "Executing leaf task: Chop vegetables\n",
            "Executing: Use knife to chop vegetables.\n",
            "Executing leaf task: Mix vegetables\n",
            "Executing: Mix chopped vegetables in a bowl.\n",
            "Decomposing task: Cook Pasta\n",
            "Executing leaf task: Boil water\n",
            "Executing: Fill pot with water and place it on the stove to boil.\n",
            "Executing leaf task: Add pasta\n",
            "Executing: Add pasta to boiling water.\n",
            "Executing leaf task: Stir pasta\n",
            "Executing: Stir pasta in the boiling water.\n",
            "Executing leaf task: Drain pasta\n",
            "Executing: Drain the cooked pasta.\n",
            "Decomposing task: Set the Table\n",
            "Executing leaf task: Place plates\n",
            "Executing: Place plates on the table.\n",
            "Executing leaf task: Place silverware\n",
            "Executing: Place forks, knives, and spoons on the table.\n",
            "Executing leaf task: Place glasses\n",
            "Executing: Place glasses on the table.\n",
            "Executing leaf task: Set up napkins\n",
            "Executing: Fold and arrange napkins on the table.\n"
          ]
        }
      ],
      "source": [
        "class Action:\n",
        "    def __init__(self, name, description):\n",
        "        self.name = name\n",
        "        self.description = description\n",
        "\n",
        "    def execute(self):\n",
        "        print(f\"Executing: {self.description}\")\n",
        "\n",
        "\n",
        "class Task:\n",
        "    def __init__(self, name, sub_tasks=None, action=None):\n",
        "        self.name = name\n",
        "        self.sub_tasks = sub_tasks if sub_tasks else []\n",
        "        self.action = action\n",
        "\n",
        "    def is_leaf(self):\n",
        "        return len(self.sub_tasks) == 0\n",
        "\n",
        "\n",
        "class HTNPlanner:\n",
        "    def __init__(self):\n",
        "        self.tasks = []\n",
        "\n",
        "    def add_task(self, task):\n",
        "        self.tasks.append(task)\n",
        "\n",
        "    def plan(self):\n",
        "        print(\"Starting planning...\")\n",
        "        for task in self.tasks:\n",
        "            self._decompose_and_execute(task)\n",
        "\n",
        "    def _decompose_and_execute(self, task):\n",
        "        if task.is_leaf():\n",
        "            print(f\"Executing leaf task: {task.name}\")\n",
        "            if task.action:\n",
        "                task.action.execute()\n",
        "        else:\n",
        "            print(f\"Decomposing task: {task.name}\")\n",
        "            for sub_task in task.sub_tasks:\n",
        "                self._decompose_and_execute(sub_task)\n",
        "\n",
        "\n",
        "# Define actions\n",
        "wash_vegetables = Action(\"Wash vegetables\", \"Turn on water and rinse vegetables.\")\n",
        "chop_vegetables = Action(\"Chop vegetables\", \"Use knife to chop vegetables.\")\n",
        "mix_vegetables = Action(\"Mix vegetables\", \"Mix chopped vegetables in a bowl.\")\n",
        "\n",
        "boil_water = Action(\"Boil water\", \"Fill pot with water and place it on the stove to boil.\")\n",
        "add_pasta = Action(\"Add pasta\", \"Add pasta to boiling water.\")\n",
        "stir_pasta = Action(\"Stir pasta\", \"Stir pasta in the boiling water.\")\n",
        "drain_pasta = Action(\"Drain pasta\", \"Drain the cooked pasta.\")\n",
        "\n",
        "place_plates = Action(\"Place plates\", \"Place plates on the table.\")\n",
        "place_silverware = Action(\"Place silverware\", \"Place forks, knives, and spoons on the table.\")\n",
        "place_glasses = Action(\"Place glasses\", \"Place glasses on the table.\")\n",
        "set_napkins = Action(\"Set up napkins\", \"Fold and arrange napkins on the table.\")\n",
        "\n",
        "# Define tasks and decomposition\n",
        "\n",
        "# Salad preparation tasks\n",
        "prepare_salad = Task(\"Prepare Salad\", [\n",
        "    Task(\"Wash vegetables\", action=wash_vegetables),\n",
        "    Task(\"Chop vegetables\", action=chop_vegetables),\n",
        "    Task(\"Mix vegetables\", action=mix_vegetables)\n",
        "])\n",
        "\n",
        "# Pasta cooking tasks\n",
        "cook_pasta = Task(\"Cook Pasta\", [\n",
        "    Task(\"Boil water\", action=boil_water),\n",
        "    Task(\"Add pasta\", action=add_pasta),\n",
        "    Task(\"Stir pasta\", action=stir_pasta),\n",
        "    Task(\"Drain pasta\", action=drain_pasta)\n",
        "])\n",
        "\n",
        "# Table setting tasks\n",
        "set_table = Task(\"Set the Table\", [\n",
        "    Task(\"Place plates\", action=place_plates),\n",
        "    Task(\"Place silverware\", action=place_silverware),\n",
        "    Task(\"Place glasses\", action=place_glasses),\n",
        "    Task(\"Set up napkins\", action=set_napkins)\n",
        "])\n",
        "\n",
        "# High-level task to prepare dinner\n",
        "prepare_dinner = Task(\"Prepare Dinner\", [prepare_salad, cook_pasta, set_table])\n",
        "\n",
        "# Create the planner and add the high-level task\n",
        "planner = HTNPlanner()\n",
        "planner.add_task(prepare_dinner)\n",
        "\n",
        "# Plan and execute\n",
        "planner.plan()\n"
      ]
    }
  ]
}