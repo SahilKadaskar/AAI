{
  "nbformat": 4,
  "nbformat_minor": 0,
  "metadata": {
    "colab": {
      "provenance": [],
      "authorship_tag": "ABX9TyPB28DRWb6ESwx/STmdiCl1",
      "include_colab_link": true
    },
    "kernelspec": {
      "name": "python3",
      "display_name": "Python 3"
    },
    "language_info": {
      "name": "python"
    }
  },
  "cells": [
    {
      "cell_type": "markdown",
      "metadata": {
        "id": "view-in-github",
        "colab_type": "text"
      },
      "source": [
        "<a href=\"https://colab.research.google.com/github/SahilKadaskar/AAI/blob/main/InductiveLearning.ipynb\" target=\"_parent\"><img src=\"https://colab.research.google.com/assets/colab-badge.svg\" alt=\"Open In Colab\"/></a>"
      ]
    },
    {
      "cell_type": "code",
      "execution_count": 1,
      "metadata": {
        "colab": {
          "base_uri": "https://localhost:8080/"
        },
        "id": "jvcipnHd10Kd",
        "outputId": "db21067c-4f1e-4819-b111-40d4b9e2455b"
      },
      "outputs": [
        {
          "output_type": "stream",
          "name": "stdout",
          "text": [
            "Learned Rule: Buys(john) :- Person(john, X, Y)\n",
            "Learned Rule: ¬Buys(jane) :- Person(jane, X, Y), income(X, Y)\n"
          ]
        }
      ],
      "source": [
        "import random\n",
        "\n",
        "class Predicate:\n",
        "    def __init__(self, name, *args):\n",
        "        self.name = name\n",
        "        self.args = args\n",
        "\n",
        "    def __eq__(self, other):\n",
        "        return self.name == other.name and self.args == other.args\n",
        "\n",
        "    def __hash__(self):\n",
        "        return hash((self.name, tuple(self.args)))\n",
        "\n",
        "    def __repr__(self):\n",
        "        return f\"{self.name}({', '.join(map(str, self.args))})\"\n",
        "\n",
        "class Example:\n",
        "    def __init__(self, predicate, is_positive=True):\n",
        "        self.predicate = predicate\n",
        "        self.is_positive = is_positive\n",
        "\n",
        "    def __repr__(self):\n",
        "        return f\"{'Positive' if self.is_positive else 'Negative'}: {self.predicate}\"\n",
        "\n",
        "class ILPSystem:\n",
        "    def __init__(self, background_knowledge):\n",
        "        self.background_knowledge = background_knowledge\n",
        "\n",
        "    def learn(self, examples):\n",
        "        # This method will try to learn a rule to explain the examples.\n",
        "        hypotheses = []\n",
        "        for example in examples:\n",
        "            if example.is_positive:\n",
        "                hypothesis = self.learn_positive(example)\n",
        "                hypotheses.append(hypothesis)\n",
        "            else:\n",
        "                hypothesis = self.learn_negative(example)\n",
        "                hypotheses.append(hypothesis)\n",
        "        return hypotheses\n",
        "\n",
        "    def learn_positive(self, example):\n",
        "        # Try to generalize the positive example\n",
        "        # Start with the most general rule (i.e., no conditions)\n",
        "        # We'll use a simple heuristic to refine the hypothesis\n",
        "        rule = f\"Buys({example.predicate.args[0]}) :- Person({example.predicate.args[0]}, X, Y)\"\n",
        "        # Generalize the rule by considering background knowledge\n",
        "        return rule\n",
        "\n",
        "    def learn_negative(self, example):\n",
        "        # Try to specialize the rule to exclude negative examples\n",
        "        # Here we just add a condition to the rule\n",
        "        rule = f\"¬Buys({example.predicate.args[0]}) :- Person({example.predicate.args[0]}, X, Y), income(X, Y)\"\n",
        "        return rule\n",
        "\n",
        "    def search_space(self, examples):\n",
        "        # This would be a more complex function in real ILP systems, which searches the hypothesis space\n",
        "        pass\n",
        "\n",
        "    def refine_rule(self, rule, examples):\n",
        "        # Refines the rule based on examples (this is simplified for our use case)\n",
        "        # In practice, this would involve more sophisticated logic refinement\n",
        "        return rule\n",
        "\n",
        "# Define some background knowledge\n",
        "background_knowledge = [\n",
        "    Predicate(\"Person\", \"john\", 25, 50000),\n",
        "    Predicate(\"Person\", \"jane\", 30, 20000),\n",
        "    Predicate(\"Person\", \"alex\", 22, 35000),\n",
        "    Predicate(\"income\", \"john\", 50000),\n",
        "    Predicate(\"income\", \"jane\", 20000)\n",
        "]\n",
        "\n",
        "# Define positive and negative examples\n",
        "examples = [\n",
        "    Example(Predicate(\"Buys\", \"john\"), is_positive=True),\n",
        "    Example(Predicate(\"Buys\", \"jane\"), is_positive=False),\n",
        "]\n",
        "\n",
        "# Initialize the ILP system with the background knowledge\n",
        "ilp_system = ILPSystem(background_knowledge)\n",
        "\n",
        "# Learn hypotheses from the examples\n",
        "hypotheses = ilp_system.learn(examples)\n",
        "\n",
        "# Output the learned hypotheses\n",
        "for hypothesis in hypotheses:\n",
        "    print(f\"Learned Rule: {hypothesis}\")\n"
      ]
    }
  ]
}